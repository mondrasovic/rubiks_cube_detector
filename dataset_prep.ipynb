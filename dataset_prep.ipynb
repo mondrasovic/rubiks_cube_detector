{
 "cells": [
  {
   "cell_type": "code",
   "execution_count": 3,
   "metadata": {},
   "outputs": [
    {
     "name": "stderr",
     "output_type": "stream",
     "text": [
      "160it [00:00, 421.05it/s]\n"
     ]
    }
   ],
   "source": [
    "import pathlib\n",
    "import shutil\n",
    "\n",
    "import tqdm\n",
    "\n",
    "src_dir = pathlib.Path('../../datasets/Rubiks_cube/raw/rubiks_cube_pos')\n",
    "dst_dir = pathlib.Path('../../datasets/Rubiks_cube/raw/rubiks_cube_pos_new')\n",
    "\n",
    "start_num = 1\n",
    "\n",
    "dst_dir.mkdir(parents=True, exist_ok=True)\n",
    "\n",
    "for idx, file in tqdm.tqdm(enumerate(src_dir.iterdir(), start=start_num)):\n",
    "    dst_file = dst_dir / f'{idx:06d}{file.suffix}'\n",
    "    shutil.copyfile(str(file), str(dst_file))\n"
   ]
  },
  {
   "cell_type": "code",
   "execution_count": null,
   "metadata": {},
   "outputs": [],
   "source": []
  }
 ],
 "metadata": {
  "interpreter": {
   "hash": "f91a5d6e4747d83f2ca8abaaaf7aacd52eac54e528eee770e3eb228d51a3694d"
  },
  "kernelspec": {
   "display_name": "Python 3.7.9 64-bit (system)",
   "language": "python",
   "name": "python3"
  },
  "language_info": {
   "codemirror_mode": {
    "name": "ipython",
    "version": 3
   },
   "file_extension": ".py",
   "mimetype": "text/x-python",
   "name": "python",
   "nbconvert_exporter": "python",
   "pygments_lexer": "ipython3",
   "version": "3.7.9"
  },
  "orig_nbformat": 4
 },
 "nbformat": 4,
 "nbformat_minor": 2
}
